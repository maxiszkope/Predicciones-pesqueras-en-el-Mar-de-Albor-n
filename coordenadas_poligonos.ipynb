{
 "cells": [
  {
   "cell_type": "code",
   "execution_count": null,
   "metadata": {},
   "outputs": [],
   "source": [
    "# Librerias\n",
    "\n",
    "import pandas as pd\n",
    "import geopandas as gpd\n",
    "import matplotlib.pyplot as plt\n",
    "from pyproj import Proj, transform\n",
    "import folium"
   ]
  },
  {
   "cell_type": "markdown",
   "metadata": {},
   "source": [
    "Primero visualizamos el archivo shapefile (.shp) con los caladeros."
   ]
  },
  {
   "cell_type": "code",
   "execution_count": null,
   "metadata": {},
   "outputs": [],
   "source": [
    "# Ruta al archivo shapefile.\n",
    "shp_file = r'ruta a caladeros.shp'\n",
    "\n",
    "# Cargar el archivo shapefile como GeoDataFrame.\n",
    "gdf = gpd.read_file(shp_file)\n",
    "\n",
    "# Definir marco de geo-referenciacion (CRS).\n",
    "crs = 'EPSG:32632'\n",
    "\n",
    "# Establecer el CRS del GeoDataFrame.\n",
    "gdf.crs = crs\n",
    "\n",
    "# Calcular el centroide de cada polígono y transformarlo a latitud y longitud.\n",
    "gdf['centro'] = gdf['geometry'].centroid\n",
    "gdf_latlon = gdf.to_crs(epsg=4326)\n",
    "gdf_latlon['centro_lat'] = gdf_latlon['centro'].apply(lambda x: x.y)\n",
    "gdf_latlon['centro_lon'] = gdf_latlon['centro'].apply(lambda x: x.x)\n",
    "\n",
    "# Visualizar el GeoDataFrame.\n",
    "fig, ax = plt.subplots(figsize=(10, 10))\n",
    "gdf_latlon.plot(ax=ax, color='blue', edgecolor='black')\n",
    "plt.title('Centroides de Polígonos')\n",
    "plt.xlabel('Longitud')\n",
    "plt.ylabel('Latitud')\n",
    "plt.grid(True)\n",
    "plt.show()\n"
   ]
  },
  {
   "cell_type": "markdown",
   "metadata": {},
   "source": [
    "Para trabajar con  los caladeros, transformamos el shapefile a a GeoJSON."
   ]
  },
  {
   "cell_type": "code",
   "execution_count": null,
   "metadata": {},
   "outputs": [],
   "source": [
    "# Ruta del archivo Shapefile.\n",
    "shp_file = r'ruta a caladeros.shp'\n",
    "\n",
    "# Cargar el Shapefile como GeoDataFrame.\n",
    "gdf = gpd.read_file(shp_file)\n",
    "\n",
    "# Ruta de salida para el archivo GeoJSON.\n",
    "geojson_file = 'caladeros.geojson'\n",
    "\n",
    "# Guardar el GeoDataFrame como GeoJSON.\n",
    "gdf.to_file(geojson_file, driver='GeoJSON')\n"
   ]
  },
  {
   "cell_type": "markdown",
   "metadata": {},
   "source": [
    "Obtener las coordenadas de cada polígono."
   ]
  },
  {
   "cell_type": "code",
   "execution_count": null,
   "metadata": {},
   "outputs": [],
   "source": [
    "# Cargar el GeoJSON como GeoDataFrame.\n",
    "gdf = gpd.read_file('ruta a caladeros.geojson')\n",
    "\n",
    "# Crear una lista para almacenar las coordenadas.\n",
    "coords_list = []\n",
    "\n",
    "# Iterar sobre cada polígono y extraer sus coordenadas.\n",
    "for index, row in gdf.iterrows():\n",
    "    num_poligono = index + 1\n",
    "    coords = row['geometry'].exterior.coords.xy\n",
    "    lats = coords[1]\n",
    "    lons = coords[0]\n",
    "    for lat, lon in zip(lats, lons):\n",
    "        coords_list.append([num_poligono, lat, lon])\n",
    "\n",
    "# Crear un DataFrame con las coordenadas.\n",
    "df = pd.DataFrame(coords_list, columns=['numero_poligono', 'Latitud', 'Longitud'])\n",
    "\n",
    "# Guardar el DataFrame como CSV.\n",
    "df.to_csv('coordenadas_poligonos.csv', index=False)\n",
    "\n"
   ]
  },
  {
   "cell_type": "markdown",
   "metadata": {},
   "source": [
    "Convertir las coordenadas UTM a coordenadas geográficas de tipo cartesiano."
   ]
  },
  {
   "cell_type": "code",
   "execution_count": null,
   "metadata": {},
   "outputs": [],
   "source": [
    "# Cargar el archivo CSV\n",
    "df = pd.read_csv(r'ruta a coordenadas_poligonos.csv')\n",
    "\n",
    "# Definir la función para convertir coordenadas UTM a latitud y longitud.\n",
    "def convertir_a_latlon(utm_x, utm_y):\n",
    "    try:\n",
    "        proj_utm = Proj(proj='utm', zone=32, ellps='WGS84')  # Zona 32 corresponde a España en la proyección de Mercator para Europa (WGS84)\n",
    "        proj_latlon = Proj(proj='latlong', datum='WGS84')\n",
    "        lon, lat = transform(proj_utm, proj_latlon, utm_x, utm_y)\n",
    "        return lat, lon\n",
    "    except Exception as e:\n",
    "        print(f\"Error al convertir las coordenadas UTM a latitud y longitud: {e}\")\n",
    "        return None, None\n",
    "\n",
    "# Aplicar la función a cada fila del DataFrame.\n",
    "df[['Latitud', 'Longitud']] = df.apply(lambda row: pd.Series(convertir_a_latlon(row['Longitud'], row['Latitud'])), axis=1)\n",
    "\n",
    "# Guardar el DataFrame convertido a un nuevo archivo CSV.\n",
    "df.to_csv('coordenadas_geograficas.csv', index=False)\n"
   ]
  },
  {
   "cell_type": "markdown",
   "metadata": {},
   "source": [
    "Truncar el defecto de posición mediante un truncamiento de las coordenadas."
   ]
  },
  {
   "cell_type": "code",
   "execution_count": null,
   "metadata": {},
   "outputs": [],
   "source": [
    "# Cargar el archivo CSV con las coordenadas.\n",
    "df = pd.read_csv('ruta a coordenadas_geograficas.csv')\n",
    "\n",
    "# Función para truncar las coordenadas a 4 dígitos después del punto decimal.\n",
    "def truncar_coordenadas(coordenada):\n",
    "    return round(coordenada, 4)\n",
    "\n",
    "# Aplicar la función a las columnas Latitud y Longitud.\n",
    "df['Latitud'] = df['Latitud'].apply(truncar_coordenadas)\n",
    "df['Longitud'] = df['Longitud'].apply(truncar_coordenadas)\n",
    "\n",
    "# Guardar el DataFrame con las coordenadas truncadas en un nuevo archivo CSV.\n",
    "df.to_csv('coordenadas_truncadas.csv', index=False)\n"
   ]
  },
  {
   "cell_type": "markdown",
   "metadata": {},
   "source": [
    "Ajustar las coordenadas de longitud a su posición real."
   ]
  },
  {
   "cell_type": "code",
   "execution_count": null,
   "metadata": {},
   "outputs": [],
   "source": [
    "# Cargar el archivo CSV.\n",
    "df = pd.read_csv('ruta a coordenadas_truncadas.csv')\n",
    "\n",
    "# Función para reposicionar la longitud.\n",
    "def restaurar_longitud(longitud):\n",
    "    return float(longitud) - 12\n",
    "\n",
    "# Aplicar la función a la columna Longitud.\n",
    "df['Longitud'] = df['Longitud'].apply(restaurar_longitud)\n",
    "\n",
    "# Restringir la longitud y latitud a 4 dígitos máximos.\n",
    "df['Latitud'] = df['Latitud'].apply(lambda x: \"{:.4f}\".format(round(x, 4)))\n",
    "df['Longitud'] = df['Longitud'].apply(lambda x: \"{:.4f}\".format(round(x, 4)))\n",
    "\n",
    "\n",
    "# Guardar el DataFrame actualizado en un nuevo archivo CSV.\n",
    "df.to_csv('coordenadas_restauradas.csv', index=False)\n"
   ]
  },
  {
   "cell_type": "markdown",
   "metadata": {},
   "source": [
    "Recortar los polígonos exclusivamente a la zona de estudio (Mar de Alborán)."
   ]
  },
  {
   "cell_type": "code",
   "execution_count": null,
   "metadata": {},
   "outputs": [],
   "source": [
    "# Cargar el archivo CSV con las coordenadas truncadas\n",
    "df = pd.read_csv('ruta a coordenadas_restauradas.csv')\n",
    "\n",
    "# Filtrar las coordenadas dentro del rango especificado.\n",
    "df_recortado = df[(df['Latitud'] >= 35.5) & (df['Latitud'] <= 37.5) & (df['Longitud'] >= -5.8) & (df['Longitud'] <= -1)]\n",
    "\n",
    "# Función para truncar las coordenadas a 4 dígitos después del punto decimal.\n",
    "def truncar_coordenadas(coordenada):\n",
    "    return round(coordenada, 4)\n",
    "\n",
    "# Aplicar la función a las columnas Latitud y Longitud.\n",
    "df_recortado['Latitud'] = df_recortado['Latitud'].apply(truncar_coordenadas)\n",
    "df_recortado['Longitud'] = df_recortado['Longitud'].apply(truncar_coordenadas)\n",
    "\n",
    "# Guardar el DataFrame filtrado en un nuevo archivo CSV.\n",
    "df_recortado.to_csv('coordenadas_caladeros.csv', index=False)\n"
   ]
  }
 ],
 "metadata": {
  "kernelspec": {
   "display_name": "entorno",
   "language": "python",
   "name": "python3"
  },
  "language_info": {
   "codemirror_mode": {
    "name": "ipython",
    "version": 3
   },
   "file_extension": ".py",
   "mimetype": "text/x-python",
   "name": "python",
   "nbconvert_exporter": "python",
   "pygments_lexer": "ipython3",
   "version": "3.10.10"
  }
 },
 "nbformat": 4,
 "nbformat_minor": 2
}
