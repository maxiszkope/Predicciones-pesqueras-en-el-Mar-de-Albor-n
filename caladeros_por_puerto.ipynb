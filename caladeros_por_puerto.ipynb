{
 "cells": [
  {
   "cell_type": "code",
   "execution_count": 1,
   "metadata": {},
   "outputs": [],
   "source": [
    "# Librerias.\n",
    "\n",
    "import pandas as pd\n",
    "from sklearn.neighbors import NearestNeighbors\n",
    "from tqdm import tqdm\n"
   ]
  },
  {
   "cell_type": "markdown",
   "metadata": {},
   "source": [
    "Mediante el método del vecino más cercano, adjudicamos los polígonos a los diferentes puertos."
   ]
  },
  {
   "cell_type": "code",
   "execution_count": 6,
   "metadata": {},
   "outputs": [
    {
     "name": "stderr",
     "output_type": "stream",
     "text": [
      "Procesando: 100%|██████████| 25058/25058 [00:00<00:00, 1439599.90it/s]\n"
     ]
    }
   ],
   "source": [
    "# Cargar datos.\n",
    "df_cuota_pesquera = pd.read_csv(r'ruta a cuota_pesquera.csv')\n",
    "df_caladeros = pd.read_csv(r'ruta a coordenadas_caladeros.csv')\n",
    "\n",
    "# Calcular la distancia entre todos los caladeros y puertos.\n",
    "nbrs = NearestNeighbors(n_neighbors=1, algorithm='auto').fit(df_cuota_pesquera[['Latitud', 'Longitud']])\n",
    "distances, indices = nbrs.kneighbors(df_caladeros[['Latitud', 'Longitud']])\n",
    "\n",
    "# Preparar tqdm.\n",
    "total_caladeros = len(df_caladeros)\n",
    "with tqdm(total=total_caladeros, desc='Procesando') as pbar:\n",
    "    # Asignar el puerto más cercano a cada caladero\n",
    "    df_caladeros['Puerto_asociado'] = df_cuota_pesquera.iloc[indices.flatten()]['Puerto'].values\n",
    "    pbar.update(total_caladeros)\n",
    "    \n",
    "# Eliminar duplicados de los caladeros asociados a cada puerto.\n",
    "df_resultado_clorofila_caladeros = df_caladeros.drop_duplicates(subset=['Puerto_asociado', 'Caladero'])\n",
    "\n",
    "# Agrupar caladeros por puerto y generar lista de caladeros asociados.\n",
    "caladeros_por_puerto = df_resultado_clorofila_caladeros.groupby('Puerto_asociado')['Caladero'].apply(list).reset_index()\n",
    "\n",
    "# Renombrar columnas.\n",
    "caladeros_por_puerto.columns = ['Puerto', 'Caladeros_asociados']\n",
    "\n",
    "# Guardar resultados.\n",
    "caladeros_por_puerto.to_csv('caladeros_por_puerto.csv', index=False)\n"
   ]
  }
 ],
 "metadata": {
  "kernelspec": {
   "display_name": "entorno",
   "language": "python",
   "name": "python3"
  },
  "language_info": {
   "codemirror_mode": {
    "name": "ipython",
    "version": 3
   },
   "file_extension": ".py",
   "mimetype": "text/x-python",
   "name": "python",
   "nbconvert_exporter": "python",
   "pygments_lexer": "ipython3",
   "version": "3.10.10"
  }
 },
 "nbformat": 4,
 "nbformat_minor": 2
}
